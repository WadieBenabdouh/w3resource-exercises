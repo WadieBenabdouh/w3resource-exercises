{
 "cells": [
  {
   "cell_type": "markdown",
   "metadata": {},
   "source": [
    "# EXERCISE 1\n",
    "## What I learned:\n",
    "- Import modules.\n",
    "- Functions.\n",
    "- Finding the largest number within a list.\n",
    "- Generating a random list using <u>random</u> module."
   ]
  },
  {
   "cell_type": "code",
   "execution_count": null,
   "metadata": {},
   "outputs": [],
   "source": [
    "import random\n",
    "import functions_warehouse as fw\n",
    "\n",
    "numbers = random.sample(range(0, 201, 2), 3)\n",
    "print(numbers)\n",
    "\n",
    "max_number_inList = fw.find_max(numbers)"
   ]
  },
  {
   "cell_type": "markdown",
   "metadata": {},
   "source": [
    "# EXERCISE 2\n",
    "## What I learned:\n",
    "- Summing a randomely generated list."
   ]
  },
  {
   "cell_type": "code",
   "execution_count": null,
   "metadata": {},
   "outputs": [],
   "source": [
    "import random\n",
    "import functions_warehouse as fw\n",
    "\n",
    "rawList = random.sample(range(0, 155), 5)\n",
    "print(rawList)\n",
    "\n",
    "sum_of_rawList = fw.sumNumbers(rawList)\n",
    "print(sum_of_rawList)"
   ]
  },
  {
   "cell_type": "markdown",
   "metadata": {},
   "source": [
    "# EXERCISE 3\n",
    "## What I learned:\n",
    "- "
   ]
  },
  {
   "cell_type": "code",
   "execution_count": null,
   "metadata": {},
   "outputs": [],
   "source": []
  }
 ],
 "metadata": {
  "kernelspec": {
   "display_name": "Python 3",
   "language": "python",
   "name": "python3"
  },
  "language_info": {
   "codemirror_mode": {
    "name": "ipython",
    "version": 3
   },
   "file_extension": ".py",
   "mimetype": "text/x-python",
   "name": "python",
   "nbconvert_exporter": "python",
   "pygments_lexer": "ipython3",
   "version": "3.12.2"
  }
 },
 "nbformat": 4,
 "nbformat_minor": 2
}
